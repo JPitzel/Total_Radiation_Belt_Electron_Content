{
 "cells": [
  {
   "cell_type": "markdown",
   "metadata": {},
   "source": [
    "## Example TRBEC Calculation ##\n",
    "**Chris Cully, June 2024**\n",
    "\n",
    "This file shows how to compute the Total Radiation Belt Electron content from Van Allen Probes data using the techniques described in Pitzel [2022] (MSc thesis) and Pitzel et al [2024] (JGR - Space). The Python code was developed by Chris Cully based on Jared Pitzel's Matlab code.\n",
    "\n",
    "First off, import the Python routines in the file \"TRBEC_from_Van_Allen_Probes.py\", set the date range you want and fetch the data files from LANL."
   ]
  },
  {
   "cell_type": "code",
   "execution_count": null,
   "metadata": {},
   "outputs": [],
   "source": [
    "import TRBEC_from_Van_Allen_Probes\n",
    "\n"
   ]
  }
 ],
 "metadata": {
  "language_info": {
   "name": "python"
  }
 },
 "nbformat": 4,
 "nbformat_minor": 2
}
